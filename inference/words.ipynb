{
 "cells": [
  {
   "cell_type": "code",
   "execution_count": 4,
   "id": "efb7f149",
   "metadata": {},
   "outputs": [],
   "source": [
    "import numpy as np\n",
    "import pandas as pd\n",
    "import json"
   ]
  },
  {
   "cell_type": "code",
   "execution_count": 6,
   "id": "22016554",
   "metadata": {},
   "outputs": [],
   "source": [
    "words = []\n",
    "adjectives = []\n",
    "colors = []\n",
    "\n",
    "with open(\"./assets/words.json\") as file:\n",
    "    words = json.load(file)\n",
    "\n",
    "with open(\"./assets/adj.json\") as file:\n",
    "    adjectives = json.load(file)\n",
    "\n",
    "with open(\"./assets/colors.json\") as file:\n",
    "    colors = json.load(file)\n",
    "    \n"
   ]
  },
  {
   "cell_type": "code",
   "execution_count": 7,
   "id": "b99c0aa2",
   "metadata": {},
   "outputs": [
    {
     "name": "stdout",
     "output_type": "stream",
     "text": [
      "226\n",
      "['anteater' 'ant' 'bee' 'beetle' 'butterfly' 'cat' 'caterpillar'\n",
      " 'centipede' 'chameleon' 'cheetah' 'chicken' 'cicada' 'chimpanzee' 'crab'\n",
      " 'crow' 'deer' 'dinosaur' 'dog' 'dolphin' 'dragon' 'duck' 'eagle'\n",
      " 'elephant' 'elk' 'falcon' 'fish' 'fox' 'frog' 'gecko' 'gorilla'\n",
      " 'grasshopper' 'hamster' 'harrier' 'hedgehog' 'heron' 'hippopotamus'\n",
      " 'hummingbird' 'iguana' 'jackal' 'jaguar' 'kangaroo' 'koala' 'ladybug'\n",
      " 'leopard' 'lion' 'lizard' 'llama' 'lobster' 'lynx' 'manatee' 'meerkat'\n",
      " 'mockingbird' 'mongoose' 'monkey' 'moose' 'mosquito' 'mouse' 'octopus'\n",
      " 'ostrich' 'otter' 'ovenbird' 'owl' 'oyster' 'panther' 'parrot' 'pelican'\n",
      " 'penguin' 'pig' 'platypus' 'porcupine' 'rabbit' 'raccoon' 'rattlesnake'\n",
      " 'raven' 'rhinoceros' 'robin' 'salamander' 'salmon' 'scorpion' 'sea lion'\n",
      " 'sea urchin' 'seahorse' 'seal' 'shark' 'sheep' 'skunk' 'snail' 'snake'\n",
      " 'sparrow' 'spider' 'squid' 'squirrel' 'swan' 'tapir' 'tiger' 'toad'\n",
      " 'turkey' 'turtle' 'soap' 'toothpaste' 'toothbrush' 'floss' 'toilet paper'\n",
      " 'shampoo' 'conditioner' 'towels' 'furniture' 'dishes' 'silverware' 'pots'\n",
      " 'pans' 'oven' 'stove' 'microwave' 'dishwasher' 'refrigerator' 'freezer'\n",
      " 'washer' 'dryer' 'tv' 'remote control' 'couch' 'chair' 'coffee table'\n",
      " 'lamp' 'computer' 'laptop' 'tablet' 'cds' 'speaker' 'ipod'\n",
      " 'kitchen table' 'chairs' 'glassware' 'cups' 'food' 'oven mitts'\n",
      " 'pot holders' 'curtains' 'blinds' 'knife' 'fork' 'spoon' 'bed'\n",
      " 'alarm clock' 'fan' 'air conditioner' 'thermostat' 'desk' 'phone'\n",
      " 'printer' 'paper' 'pens' 'pencils' 'books' 'bookcase' 'clothes' 'shoes'\n",
      " 'mail' 'jewelry' 'makeup' 'vacuum' 'mop' 'broom' 'dustpan' 'trash can'\n",
      " 'monitor' 'scanner' 'camera' 'camcorder' 'projector' 'tvs' 'game'\n",
      " 'headphone' 'microphone' 'lighting' 'mattress' 'appliance' 'kitchen'\n",
      " 'bath' 'nursery' 'kid' 'teen' 'adult' 'pet' 'batteries' 'light bulb'\n",
      " 'plumbing' 'paint' 'automotive' 'tire' 'motorcycle' 'cycling' 'golf'\n",
      " 'climbing' 'skateboard' 'ski' 'swimming pool' 'model' 'rocket' 'toy'\n",
      " 'coin' 'book' 'music' 'movies' 'antique' 'art' 'baby' 'clothing' 'watch'\n",
      " 'handbag' 'website' 'internet' 'shoe']\n",
      "['handbag' 'shoes' 'clothes' 'desk' 'mattress' 'thermostat' 'spoon'\n",
      " 'penguin' 'movies' 'paper' 'music' 'bed' 'robin' 'monitor' 'mosquito'\n",
      " 'shampoo' 'printer' 'stove' 'dragon' 'salmon' 'eagle' 'bee' 'cicada'\n",
      " 'rocket' 'light bulb' 'elephant' 'lighting' 'gorilla' 'ant' 'furniture'\n",
      " 'towels' 'glassware' 'knife' 'hamster' 'fish' 'octopus' 'raven' 'art'\n",
      " 'chameleon' 'spider' 'tablet' 'broom' 'butterfly' 'platypus' 'lobster'\n",
      " 'otter' 'rhinoceros' 'frog' 'internet' 'pans' 'squirrel' 'caterpillar'\n",
      " 'makeup' 'toad' 'ipod' 'refrigerator' 'crow' 'cds' 'gecko' 'golf'\n",
      " 'parrot' 'kangaroo' 'fork' 'washer' 'antique' 'shoe' 'blinds' 'camcorder'\n",
      " 'motorcycle' 'headphone' 'mongoose' 'chairs' 'salamander' 'pencils'\n",
      " 'dustpan' 'jewelry' 'bookcase' 'teen' 'automotive' 'tire' 'batteries'\n",
      " 'oven mitts' 'cat' 'laptop' 'floss' 'microphone' 'air conditioner'\n",
      " 'kitchen table' 'cups' 'trash can' 'ski' 'turkey' 'dishes' 'chicken'\n",
      " 'oven' 'dishwasher' 'dinosaur' 'paint' 'owl' 'ladybug' 'ostrich'\n",
      " 'skateboard' 'shark' 'tv' 'plumbing' 'skunk' 'silverware' 'cycling'\n",
      " 'centipede' 'clothing' 'projector' 'remote control' 'sheep' 'duck'\n",
      " 'toilet paper' 'mockingbird' 'appliance' 'jaguar' 'meerkat' 'turtle'\n",
      " 'food' 'falcon' 'dolphin' 'book' 'adult' 'kitchen' 'manatee'\n",
      " 'coffee table' 'baby' 'jackal' 'sea urchin' 'hummingbird' 'vacuum'\n",
      " 'heron' 'oyster' 'scanner' 'seal' 'fan' 'lion' 'kid' 'elk' 'toy' 'iguana'\n",
      " 'chair' 'leopard' 'pelican' 'chimpanzee' 'books' 'lamp' 'sea lion'\n",
      " 'tapir' 'nursery' 'toothbrush' 'seahorse' 'snake' 'fox' 'swimming pool'\n",
      " 'rabbit' 'sparrow' 'website' 'monkey' 'pot holders' 'raccoon' 'model'\n",
      " 'panther' 'curtains' 'mop' 'tiger' 'toothpaste' 'computer' 'mail' 'bath'\n",
      " 'anteater' 'camera' 'snail' 'porcupine' 'mouse' 'climbing' 'dog' 'pet'\n",
      " 'swan' 'harrier' 'microwave' 'squid' 'couch' 'grasshopper' 'hedgehog'\n",
      " 'coin' 'pens' 'llama' 'pig' 'beetle' 'koala' 'deer' 'phone' 'ovenbird'\n",
      " 'game' 'lizard' 'cheetah' 'pots' 'rattlesnake' 'speaker' 'conditioner'\n",
      " 'lynx' 'soap' 'scorpion' 'watch' 'moose' 'tvs' 'crab' 'dryer' 'freezer'\n",
      " 'alarm clock' 'hippopotamus']\n"
     ]
    }
   ],
   "source": [
    "print(len(words))\n",
    "words = pd.Series(words).str.lower().drop_duplicates()\n",
    "words = words.to_numpy()\n",
    "print(words)\n",
    "np.random.shuffle(words)\n",
    "print(words)\n",
    "np.save(\"./words.npy\", words)"
   ]
  },
  {
   "cell_type": "code",
   "execution_count": 8,
   "id": "d37e04b0",
   "metadata": {},
   "outputs": [
    {
     "name": "stdout",
     "output_type": "stream",
     "text": [
      "10\n",
      "10\n"
     ]
    }
   ],
   "source": [
    "print(len(adjectives))\n",
    "adjectives = pd.Series(adjectives).str.lower().drop_duplicates()\n",
    "print(len(adjectives))\n",
    "np.save(\"./adjectives.npy\", adjectives.to_numpy())"
   ]
  },
  {
   "cell_type": "code",
   "execution_count": 9,
   "id": "c978fb6a",
   "metadata": {},
   "outputs": [
    {
     "name": "stdout",
     "output_type": "stream",
     "text": [
      "15\n",
      "15\n"
     ]
    }
   ],
   "source": [
    "print(len(colors))\n",
    "colors = pd.Series(colors).str.lower().drop_duplicates()\n",
    "print(len(colors))\n",
    "np.save(\"./colors.npy\", colors.to_numpy())"
   ]
  },
  {
   "cell_type": "code",
   "execution_count": null,
   "id": "462c9d4a",
   "metadata": {},
   "outputs": [],
   "source": []
  }
 ],
 "metadata": {
  "kernelspec": {
   "display_name": "Python 3.10.4 ('.venv': venv)",
   "language": "python",
   "name": "python3"
  },
  "language_info": {
   "codemirror_mode": {
    "name": "ipython",
    "version": 3
   },
   "file_extension": ".py",
   "mimetype": "text/x-python",
   "name": "python",
   "nbconvert_exporter": "python",
   "pygments_lexer": "ipython3",
   "version": "3.10.4"
  },
  "vscode": {
   "interpreter": {
    "hash": "d53b6cbb2779d9b430375427531dec8d8c258247602fe9dcf0a6b51fb4cd6ac2"
   }
  }
 },
 "nbformat": 4,
 "nbformat_minor": 5
}
