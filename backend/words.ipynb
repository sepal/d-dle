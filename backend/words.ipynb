{
 "cells": [
  {
   "cell_type": "code",
   "execution_count": 11,
   "id": "efb7f149",
   "metadata": {},
   "outputs": [],
   "source": [
    "import numpy as np\n",
    "import pandas as pd\n",
    "import json"
   ]
  },
  {
   "cell_type": "code",
   "execution_count": 42,
   "id": "22016554",
   "metadata": {},
   "outputs": [],
   "source": [
    "words = []\n",
    "adjectives = []\n",
    "colors = []\n",
    "\n",
    "with open(\"./words.json\") as file:\n",
    "    words = json.load(file)\n",
    "\n",
    "with open(\"./adj.json\") as file:\n",
    "    adjectives = json.load(file)\n",
    "\n",
    "with open(\"./colors.json\") as file:\n",
    "    colors = json.load(file)\n",
    "    \n"
   ]
  },
  {
   "cell_type": "code",
   "execution_count": 43,
   "id": "b99c0aa2",
   "metadata": {},
   "outputs": [
    {
     "name": "stdout",
     "output_type": "stream",
     "text": [
      "245\n",
      "['aardvark' 'ant' 'bee' 'beetle' 'butterfly' 'cat' 'caterpillar'\n",
      " 'centipede' 'chameleon' 'cheetah' 'chicken' 'cicada' 'crab' 'crow' 'deer'\n",
      " 'dinosaur' 'dog' 'dolphin' 'dragon' 'duck' 'eagle' 'elephant' 'elk'\n",
      " 'falcon' 'fish' 'fox' 'frog' 'gecko' 'gorilla' 'grasshopper' 'hamster'\n",
      " 'harrier' 'hedgehog' 'heron' 'hippopotamus' 'hummingbird' 'iguana'\n",
      " 'jackal' 'jaguar' 'kangaroo' 'koala' 'ladybug' 'leopard' 'lion' 'lizard'\n",
      " 'llama' 'lobster' 'lynx' 'manatee' 'meerkat' 'mockingbird' 'mongoose'\n",
      " 'monkey' 'moose' 'mosquito' 'mouse' 'octopus' 'ostrich' 'otter'\n",
      " 'ovenbird' 'owl' 'oyster' 'panther' 'parrot' 'pelican' 'penguin'\n",
      " 'peregrine falcon' 'pig' 'platypus' 'porcupine' 'quail' 'rabbit'\n",
      " 'raccoon' 'rattlesnake' 'raven' 'rhinoceros' 'robin' 'salamander'\n",
      " 'salmon' 'sawyer beetle' 'scorpion' 'sea lion' 'sea urchin' 'seahorse'\n",
      " 'seal' 'shark' 'sheep' 'skunk' 'snail' 'snake' 'sparrow' 'spider' 'squid'\n",
      " 'squirrel' 'swan' 'tapir' 'tiger' 'toad' 'turkey' 'turtle' 'soap'\n",
      " 'toothpaste' 'toothbrush' 'floss' 'toilet paper' 'shampoo' 'conditioner'\n",
      " 'towels' 'furniture' 'dishes' 'silverware' 'pots' 'pans' 'oven' 'stove'\n",
      " 'microwave' 'dishwasher' 'refrigerator' 'freezer' 'washer' 'dryer' 'tv'\n",
      " 'remote control' 'couch' 'chair' 'coffee table' 'end table' 'lamp'\n",
      " 'computer' 'laptop' 'phone' 'tablet' 'cds' 'stereo' 'speakers' 'ipod'\n",
      " 'headphones' 'kitchen table' 'chairs' 'glassware' 'cups' 'food'\n",
      " 'oven mitts' 'pot holders' 'curtains' 'blinds' 'bed' 'bedding'\n",
      " 'alarm clock' 'fan' 'air conditioner' 'thermostat' 'heat' 'desk'\n",
      " 'printer' 'paper' 'pens' 'pencils' 'books' 'bookcase' 'clothes' 'shoes'\n",
      " 'jewelry' 'makeup' 'toiletries' 'cleaning supplies' 'vacuum' 'mop'\n",
      " 'broom' 'dustpan' 'trash can' 'recycling bin' 'smartphone' 'ereader'\n",
      " 'computers' 'monitors' 'printers' 'scanners' 'cameras' 'camcorders'\n",
      " 'projectors' 'tvs' 'games' 'lighting' 'security' 'tools' 'mattress'\n",
      " 'appliance' 'kitchen' 'bath' 'nursery' 'kids' 'teens' 'adults' 'pets'\n",
      " 'batteries' 'light bulbs' 'electrical' 'plumbing' 'hardware' 'paint'\n",
      " 'automotive' 'tires' 'motorcycles' 'marine' 'cycling' 'golf' 'climbing'\n",
      " 'skateboard' 'ski' 'swimming pool' 'hobbies' 'crafts' 'models' 'rockets'\n",
      " 'toys' 'collectibles' 'coin' 'book' 'music' 'movies' 'tv show'\n",
      " 'streaming' 'antiques' 'art' 'baby' 'clothing ' 'watch' 'handbag']\n",
      "['clothes' 'mouse' 'movies' 'bee' 'remote control' 'tv show' 'end table'\n",
      " 'owl' 'chairs' 'sawyer beetle' 'harrier' 'kitchen' 'penguin' 'lobster'\n",
      " 'vacuum' 'plumbing' 'dolphin' 'dinosaur' 'chicken' 'paper' 'lynx' 'llama'\n",
      " 'porcupine' 'turtle' 'snail' 'monitors' 'stereo' 'panther' 'coin' 'duck'\n",
      " 'dishes' 'blinds' 'heat' 'lion' 'models' 'spider' 'books' 'pets'\n",
      " 'hippopotamus' 'teens' 'pencils' 'bath' 'dishwasher' 'dragon' 'handbag'\n",
      " 'shark' 'floss' 'pens' 'platypus' 'gecko' 'projectors' 'aardvark' 'swan'\n",
      " 'pelican' 'toys' 'camcorders' 'fish' 'manatee' 'paint' 'swimming pool'\n",
      " 'smartphone' 'skunk' 'printers' 'otter' 'pot holders' 'appliance'\n",
      " 'streaming' 'motorcycles' 'hobbies' 'collectibles' 'pots' 'robin' 'food'\n",
      " 'scorpion' 'tiger' 'furniture' 'rockets' 'oven' 'elephant' 'oyster'\n",
      " 'mockingbird' 'quail' 'ipod' 'rhinoceros' 'squid' 'trash can' 'nursery'\n",
      " 'seahorse' 'salamander' 'crow' 'crafts' 'cicada' 'tapir' 'electrical'\n",
      " 'baby' 'toothbrush' 'hamster' 'raccoon' 'ereader' 'couch' 'mongoose'\n",
      " 'broom' 'automotive' 'fan' 'clothing ' 'kitchen table' 'deer' 'tools'\n",
      " 'batteries' 'art' 'centipede' 'salmon' 'mattress' 'frog' 'fox' 'sheep'\n",
      " 'jewelry' 'ladybug' 'lizard' 'chair' 'grasshopper' 'refrigerator'\n",
      " 'shampoo' 'cycling' 'skateboard' 'turkey' 'crab' 'lamp' 'toilet paper'\n",
      " 'washer' 'headphones' 'toad' 'cat' 'hardware' 'beetle' 'curtains'\n",
      " 'mosquito' 'monkey' 'eagle' 'glassware' 'recycling bin' 'ostrich'\n",
      " 'gorilla' 'kangaroo' 'security' 'speakers' 'seal' 'toiletries' 'adults'\n",
      " 'mop' 'falcon' 'antiques' 'thermostat' 'dustpan' 'golf' 'computers' 'pig'\n",
      " 'parrot' 'jaguar' 'silverware' 'pans' 'scanners' 'tvs' 'chameleon'\n",
      " 'snake' 'oven mitts' 'printer' 'hedgehog' 'cameras' 'ski' 'phone'\n",
      " 'laptop' 'caterpillar' 'ovenbird' 'moose' 'dryer' 'rattlesnake' 'cds'\n",
      " 'light bulbs' 'meerkat' 'kids' 'stove' 'sparrow' 'tv' 'sea lion' 'iguana'\n",
      " 'bookcase' 'computer' 'makeup' 'octopus' 'lighting' 'bed' 'book' 'towels'\n",
      " 'cups' 'sea urchin' 'desk' 'butterfly' 'ant' 'freezer'\n",
      " 'cleaning supplies' 'jackal' 'elk' 'leopard' 'soap' 'heron' 'squirrel'\n",
      " 'hummingbird' 'peregrine falcon' 'music' 'climbing' 'microwave'\n",
      " 'coffee table' 'rabbit' 'conditioner' 'air conditioner' 'toothpaste'\n",
      " 'tablet' 'koala' 'tires' 'alarm clock' 'shoes' 'cheetah' 'bedding'\n",
      " 'games' 'marine' 'dog' 'raven' 'watch']\n"
     ]
    }
   ],
   "source": [
    "print(len(words))\n",
    "words = pd.Series(words).str.lower().drop_duplicates()\n",
    "words = words.to_numpy()\n",
    "print(words)\n",
    "np.random.shuffle(words)\n",
    "print(words)\n",
    "np.save(\"./words.npy\", words)"
   ]
  },
  {
   "cell_type": "code",
   "execution_count": 26,
   "id": "d37e04b0",
   "metadata": {},
   "outputs": [
    {
     "name": "stdout",
     "output_type": "stream",
     "text": [
      "10\n",
      "10\n"
     ]
    }
   ],
   "source": [
    "print(len(adjectives))\n",
    "adjectives = pd.Series(adjectives).str.lower().drop_duplicates()\n",
    "print(len(adjectives))\n",
    "np.save(\"./adjectives.npy\", adjectives.to_numpy())"
   ]
  },
  {
   "cell_type": "code",
   "execution_count": 44,
   "id": "c978fb6a",
   "metadata": {},
   "outputs": [
    {
     "name": "stdout",
     "output_type": "stream",
     "text": [
      "15\n",
      "15\n"
     ]
    }
   ],
   "source": [
    "print(len(colors))\n",
    "colors = pd.Series(colors).str.lower().drop_duplicates()\n",
    "print(len(colors))\n",
    "np.save(\"./colors.npy\", colors.to_numpy())"
   ]
  },
  {
   "cell_type": "code",
   "execution_count": 28,
   "id": "3cc9ba05",
   "metadata": {},
   "outputs": [
    {
     "ename": "ModuleNotFoundError",
     "evalue": "No module named 'jax'",
     "output_type": "error",
     "traceback": [
      "\u001b[0;31m---------------------------------------------------------------------------\u001b[0m",
      "\u001b[0;31mModuleNotFoundError\u001b[0m                       Traceback (most recent call last)",
      "Input \u001b[0;32mIn [28]\u001b[0m, in \u001b[0;36m<cell line: 1>\u001b[0;34m()\u001b[0m\n\u001b[0;32m----> 1\u001b[0m \u001b[38;5;28;01mfrom\u001b[39;00m \u001b[38;5;21;01mjax\u001b[39;00m \u001b[38;5;28;01mimport\u001b[39;00m numpy \u001b[38;5;28;01mas\u001b[39;00m jnp\n",
      "\u001b[0;31mModuleNotFoundError\u001b[0m: No module named 'jax'"
     ]
    }
   ],
   "source": [
    "from jax import numpy as jnp"
   ]
  },
  {
   "cell_type": "code",
   "execution_count": null,
   "id": "462c9d4a",
   "metadata": {},
   "outputs": [],
   "source": []
  }
 ],
 "metadata": {
  "kernelspec": {
   "display_name": "Python 3 (ipykernel)",
   "language": "python",
   "name": "python3"
  },
  "language_info": {
   "codemirror_mode": {
    "name": "ipython",
    "version": 3
   },
   "file_extension": ".py",
   "mimetype": "text/x-python",
   "name": "python",
   "nbconvert_exporter": "python",
   "pygments_lexer": "ipython3",
   "version": "3.8.10"
  }
 },
 "nbformat": 4,
 "nbformat_minor": 5
}
